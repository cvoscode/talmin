{
 "cells": [
  {
   "cell_type": "code",
   "execution_count": 1,
   "metadata": {},
   "outputs": [],
   "source": [
    "import polars as pl"
   ]
  },
  {
   "cell_type": "code",
   "execution_count": 26,
   "metadata": {},
   "outputs": [],
   "source": [
    "df=pl.read_csv(r'C:\\Python\\100k.csv')"
   ]
  },
  {
   "cell_type": "code",
   "execution_count": 30,
   "metadata": {},
   "outputs": [
    {
     "data": {
      "text/html": [
       "<div><style>\n",
       ".dataframe > thead > tr > th,\n",
       ".dataframe > tbody > tr > td {\n",
       "  text-align: right;\n",
       "}\n",
       "</style>\n",
       "<small>shape: (9, 8)</small><table border=\"1\" class=\"dataframe\"><thead><tr><th>Original Columns</th><th>count</th><th>null_count</th><th>mean</th><th>std</th><th>min</th><th>max</th><th>median</th></tr><tr><td>str</td><td>f64</td><td>f64</td><td>f64</td><td>f64</td><td>f64</td><td>f64</td><td>f64</td></tr></thead><tbody><tr><td>&quot;&quot;</td><td>100000.0</td><td>0.0</td><td>49999.5</td><td>28867.657797</td><td>0.0</td><td>99999.0</td><td>49999.5</td></tr><tr><td>&quot;0&quot;</td><td>100000.0</td><td>0.0</td><td>0.498722</td><td>0.288254</td><td>0.000002</td><td>2.0</td><td>0.496187</td></tr><tr><td>&quot;1&quot;</td><td>100000.0</td><td>0.0</td><td>0.501659</td><td>0.28865</td><td>0.000004</td><td>2.0</td><td>0.502578</td></tr><tr><td>&quot;2&quot;</td><td>100000.0</td><td>0.0</td><td>0.500659</td><td>0.288686</td><td>0.000026</td><td>2.0</td><td>0.500033</td></tr><tr><td>&quot;3&quot;</td><td>100000.0</td><td>0.0</td><td>0.500787</td><td>0.289783</td><td>0.000006</td><td>2.0</td><td>0.502037</td></tr><tr><td>&quot;4&quot;</td><td>100000.0</td><td>0.0</td><td>0.500427</td><td>0.288865</td><td>0.000001</td><td>2.0</td><td>0.500928</td></tr><tr><td>&quot;5&quot;</td><td>100000.0</td><td>0.0</td><td>0.500938</td><td>0.289034</td><td>0.000062</td><td>2.0</td><td>0.500929</td></tr><tr><td>&quot;6&quot;</td><td>100000.0</td><td>0.0</td><td>0.499844</td><td>0.288868</td><td>0.000025</td><td>2.0</td><td>0.500578</td></tr><tr><td>&quot;7&quot;</td><td>100000.0</td><td>0.0</td><td>0.49831</td><td>0.288833</td><td>0.000013</td><td>2.0</td><td>0.498496</td></tr></tbody></table></div>"
      ],
      "text/plain": [
       "shape: (9, 8)\n",
       "┌──────────┬──────────┬────────────┬──────────┬──────────────┬──────────┬─────────┬──────────┐\n",
       "│ Original ┆ count    ┆ null_count ┆ mean     ┆ std          ┆ min      ┆ max     ┆ median   │\n",
       "│ Columns  ┆ ---      ┆ ---        ┆ ---      ┆ ---          ┆ ---      ┆ ---     ┆ ---      │\n",
       "│ ---      ┆ f64      ┆ f64        ┆ f64      ┆ f64          ┆ f64      ┆ f64     ┆ f64      │\n",
       "│ str      ┆          ┆            ┆          ┆              ┆          ┆         ┆          │\n",
       "╞══════════╪══════════╪════════════╪══════════╪══════════════╪══════════╪═════════╪══════════╡\n",
       "│          ┆ 100000.0 ┆ 0.0        ┆ 49999.5  ┆ 28867.657797 ┆ 0.0      ┆ 99999.0 ┆ 49999.5  │\n",
       "│ 0        ┆ 100000.0 ┆ 0.0        ┆ 0.498722 ┆ 0.288254     ┆ 0.000002 ┆ 2.0     ┆ 0.496187 │\n",
       "│ 1        ┆ 100000.0 ┆ 0.0        ┆ 0.501659 ┆ 0.28865      ┆ 0.000004 ┆ 2.0     ┆ 0.502578 │\n",
       "│ 2        ┆ 100000.0 ┆ 0.0        ┆ 0.500659 ┆ 0.288686     ┆ 0.000026 ┆ 2.0     ┆ 0.500033 │\n",
       "│ …        ┆ …        ┆ …          ┆ …        ┆ …            ┆ …        ┆ …       ┆ …        │\n",
       "│ 4        ┆ 100000.0 ┆ 0.0        ┆ 0.500427 ┆ 0.288865     ┆ 0.000001 ┆ 2.0     ┆ 0.500928 │\n",
       "│ 5        ┆ 100000.0 ┆ 0.0        ┆ 0.500938 ┆ 0.289034     ┆ 0.000062 ┆ 2.0     ┆ 0.500929 │\n",
       "│ 6        ┆ 100000.0 ┆ 0.0        ┆ 0.499844 ┆ 0.288868     ┆ 0.000025 ┆ 2.0     ┆ 0.500578 │\n",
       "│ 7        ┆ 100000.0 ┆ 0.0        ┆ 0.49831  ┆ 0.288833     ┆ 0.000013 ┆ 2.0     ┆ 0.498496 │\n",
       "└──────────┴──────────┴────────────┴──────────┴──────────────┴──────────┴─────────┴──────────┘"
      ]
     },
     "execution_count": 30,
     "metadata": {},
     "output_type": "execute_result"
    }
   ],
   "source": [
    "df.describe().select(pl.exclude('describe')).transpose(column_names=['count','null_count','mean','std','min','max','median']).select(pl.Series(\"Original Columns\", df.columns),pl.all())\n"
   ]
  },
  {
   "cell_type": "markdown",
   "metadata": {},
   "source": []
  },
  {
   "cell_type": "markdown",
   "metadata": {},
   "source": []
  }
 ],
 "metadata": {
  "kernelspec": {
   "display_name": "talmin",
   "language": "python",
   "name": "python3"
  },
  "language_info": {
   "codemirror_mode": {
    "name": "ipython",
    "version": 3
   },
   "file_extension": ".py",
   "mimetype": "text/x-python",
   "name": "python",
   "nbconvert_exporter": "python",
   "pygments_lexer": "ipython3",
   "version": "3.10.11"
  },
  "orig_nbformat": 4
 },
 "nbformat": 4,
 "nbformat_minor": 2
}
