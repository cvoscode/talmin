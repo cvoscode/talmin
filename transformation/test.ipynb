{
 "cells": [
  {
   "cell_type": "code",
   "execution_count": 34,
   "metadata": {},
   "outputs": [],
   "source": [
    "import polars as pl\n",
    "from Errors import DependencyError\n",
    "\n",
    "# create example dataframe\n",
    "df = pl.DataFrame({\n",
    "    \"col1\": [5, 8, 11],\n",
    "    \"col2\": [12,5,3],\n",
    "    \"col3\": [True, False, True],\n",
    "    \"col4\": ['01.01.2022','05.01.2022','08.01.2022']\n",
    "})\n",
    "\n",
    "# get data types of all columns\n",
    "numeric=[pl.Decimal,pl.Float32,pl.Float64,pl.Int16,pl.Int32,pl.Int64,pl.Int8,pl.UInt16,pl.UInt32,pl.UInt64,pl.UInt8]\n",
    "temporal=[pl.Date,pl.Datetime,pl.Duration,pl.Time]\n",
    "nested=[pl.List,pl.Struct]\n",
    "discrete=[pl.Boolean,pl.Binary,pl.Categorical,pl.Null,pl.Object,pl.Utf8]"
   ]
  },
  {
   "cell_type": "code",
   "execution_count": 42,
   "metadata": {},
   "outputs": [],
   "source": [
    "from transformer import MinMaxScaler,LabelEncoder,DateTimeEncoder"
   ]
  },
  {
   "cell_type": "code",
   "execution_count": null,
   "metadata": {},
   "outputs": [],
   "source": [
    "Label=LabelEncoder()"
   ]
  }
 ],
 "metadata": {
  "kernelspec": {
   "display_name": "talmin",
   "language": "python",
   "name": "python3"
  },
  "language_info": {
   "codemirror_mode": {
    "name": "ipython",
    "version": 3
   },
   "file_extension": ".py",
   "mimetype": "text/x-python",
   "name": "python",
   "nbconvert_exporter": "python",
   "pygments_lexer": "ipython3",
   "version": "3.10.10"
  },
  "orig_nbformat": 4
 },
 "nbformat": 4,
 "nbformat_minor": 2
}
